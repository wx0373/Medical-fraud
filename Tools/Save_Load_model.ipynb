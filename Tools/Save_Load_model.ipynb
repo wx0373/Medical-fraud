{
 "cells": [
  {
   "cell_type": "code",
   "execution_count": 1,
   "id": "e0c660b8",
   "metadata": {},
   "outputs": [],
   "source": [
    "import warnings\n",
    "warnings.filterwarnings(\"ignore\")\n",
    "import pandas as pd\n",
    "import numpy as np\n",
    "import seaborn as sns\n",
    "import matplotlib.pyplot as plt"
   ]
  },
  {
   "cell_type": "code",
   "execution_count": 2,
   "id": "24d2a6fe",
   "metadata": {},
   "outputs": [],
   "source": [
    "X_train= pd.read_csv('./X_train_new.csv',index_col=0)\n",
    "y_train= pd.read_csv('./y_train_new.csv')\n",
    "X_test= pd.read_csv('./X_test_new.csv', index_col=0)\n",
    "y_test= pd.read_csv('./y_test_new.csv')\n",
    "X_test.fillna(0,inplace=True)"
   ]
  },
  {
   "cell_type": "code",
   "execution_count": 6,
   "id": "3c96c26b",
   "metadata": {},
   "outputs": [
    {
     "name": "stdout",
     "output_type": "stream",
     "text": [
      "0.9463955637707948\n"
     ]
    }
   ],
   "source": [
    "# save the model to disk\n",
    "import joblib\n",
    "filename = 'rf_model.sav'\n",
    "joblib.dump(model_hf, filename)"
   ]
  },
  {
   "cell_type": "code",
   "execution_count": null,
   "id": "f0d1a6f7",
   "metadata": {},
   "outputs": [],
   "source": [
    "import joblib\n",
    "model_lr = joblib.load('lr_model.sav')\n",
    "model_rf = joblib.load('rf_model.sav')"
   ]
  },
  {
   "cell_type": "code",
   "execution_count": null,
   "id": "d4c8e715",
   "metadata": {},
   "outputs": [],
   "source": []
  }
 ],
 "metadata": {
  "kernelspec": {
   "display_name": "Python 3 (ipykernel)",
   "language": "python",
   "name": "python3"
  },
  "language_info": {
   "codemirror_mode": {
    "name": "ipython",
    "version": 3
   },
   "file_extension": ".py",
   "mimetype": "text/x-python",
   "name": "python",
   "nbconvert_exporter": "python",
   "pygments_lexer": "ipython3",
   "version": "3.9.12"
  }
 },
 "nbformat": 4,
 "nbformat_minor": 5
}
