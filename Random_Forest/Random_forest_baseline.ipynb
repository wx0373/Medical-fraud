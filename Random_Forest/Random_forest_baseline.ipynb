{
 "cells": [
  {
   "cell_type": "code",
   "execution_count": 1,
   "id": "5af1a791",
   "metadata": {},
   "outputs": [],
   "source": [
    "import warnings\n",
    "warnings.filterwarnings(\"ignore\")\n",
    "import pandas as pd\n",
    "import numpy as np\n",
    "import seaborn as sns\n",
    "import matplotlib.pyplot as plt"
   ]
  },
  {
   "cell_type": "code",
   "execution_count": 2,
   "id": "c06c588a",
   "metadata": {},
   "outputs": [],
   "source": [
    "X_train= pd.read_csv('./X_train_aggregated.csv',  index_col=0)\n",
    "X_test= pd.read_csv('./X_test_aggregated.csv',  index_col=0)\n",
    "y_train= pd.read_csv('./y_train_agg.csv')\n",
    "y_test= pd.read_csv('./y_test_agg.csv')\n",
    "X_test.fillna(0,inplace=True)"
   ]
  },
  {
   "cell_type": "code",
   "execution_count": 6,
   "id": "bb65ce85",
   "metadata": {},
   "outputs": [],
   "source": [
    "from sklearn.metrics import precision_recall_fscore_support\n",
    "from sklearn.metrics import f1_score\n",
    "from sklearn.model_selection import learning_curve\n",
    "from sklearn.model_selection import ShuffleSplit\n",
    "from sklearn.model_selection import cross_val_predict\n",
    "from sklearn.model_selection import train_test_split\n",
    "from sklearn.model_selection import cross_val_score\n",
    "from sklearn.model_selection import validation_curve"
   ]
  },
  {
   "cell_type": "code",
   "execution_count": 88,
   "id": "24dfce67",
   "metadata": {},
   "outputs": [],
   "source": [
    "from sklearn.pipeline import Pipeline\n",
    "from sklearn.preprocessing import MinMaxScaler\n",
    "from sklearn.ensemble import RandomForestClassifier\n",
    "from sklearn.datasets import make_classification\n",
    "from sklearn.model_selection import cross_val_score\n",
    "from sklearn import metrics \n",
    "from sklearn.metrics import mean_absolute_error, mean_squared_error, r2_score\n",
    "from sklearn.metrics import accuracy_score, confusion_matrix, classification_report\n",
    "from sklearn.metrics import roc_auc_score\n",
    "\n",
    "steps = [('rfc', RandomForestClassifier(n_estimators = 3, criterion = 'entropy', \n",
    "                                        random_state = 0,class_weight='balanced',\n",
    "                                        min_samples_split=50,oob_score=True,\n",
    "                                        max_features='log2',max_depth=50))]\n",
    "model = Pipeline(steps)\n",
    "model = model.fit(X_train,y_train)  #criterion = 'gini'"
   ]
  },
  {
   "cell_type": "code",
   "execution_count": 89,
   "id": "f572b348",
   "metadata": {},
   "outputs": [],
   "source": [
    "y_train_pred = model.predict(X_train)\n",
    "y_test_pred = model.predict(X_test)"
   ]
  },
  {
   "cell_type": "markdown",
   "id": "114564bf",
   "metadata": {},
   "source": [
    "# Accuracy"
   ]
  },
  {
   "cell_type": "code",
   "execution_count": 90,
   "id": "4e95d263",
   "metadata": {},
   "outputs": [
    {
     "name": "stdout",
     "output_type": "stream",
     "text": [
      "Accuracy: 0.8937153419593346\n"
     ]
    }
   ],
   "source": [
    "print(\"Accuracy:\",metrics.accuracy_score(y_test, y_test_pred))"
   ]
  },
  {
   "cell_type": "markdown",
   "id": "1b289f44",
   "metadata": {},
   "source": [
    "# Feature_importances"
   ]
  },
  {
   "cell_type": "code",
   "execution_count": 91,
   "id": "cc22b7b5",
   "metadata": {},
   "outputs": [
    {
     "data": {
      "text/plain": [
       "['MaxHospitalDays',\n",
       " 'TotalIPAnnualReimbursementAmt',\n",
       " 'TotalInscClaimAmtReimbursed',\n",
       " 'ClaimCounts',\n",
       " 'TotalIPAnnualDeductibleAmtdf']"
      ]
     },
     "execution_count": 91,
     "metadata": {},
     "output_type": "execute_result"
    }
   ],
   "source": [
    "feat_labels = X_train.columns\n",
    "importances = model.steps[0][1].feature_importances_\n",
    "indices = np.argsort(importances)[::-1]\n",
    "res=[]\n",
    "for f in range(X_train.shape[1]):\n",
    "    #print(\"%2d) %-*s %f\" % (f + 1, 30, feat_labels[indices[f]], importances[indices[f]]))\n",
    "    res.append([feat_labels[indices[f]], importances[indices[f]]])\n",
    "df_importances=pd.DataFrame(res)\n",
    "threshold = 0.055\n",
    "list(df_importances[df_importances[1]>threshold ][0])# feature importance > threshold "
   ]
  },
  {
   "cell_type": "code",
   "execution_count": 92,
   "id": "94374b98",
   "metadata": {},
   "outputs": [
    {
     "data": {
      "image/png": "[encoded data removed]",
      "text/plain": [
       "<Figure size 1080x288 with 1 Axes>"
      ]
     },
     "metadata": {
      "needs_background": "light"
     },
     "output_type": "display_data"
    }
   ],
   "source": [
    "# plot feature importance\n",
    "plt.figure(figsize=(15,4))\n",
    "plt.bar([x for x in range(len(importances))], importances)\n",
    "plt.title('Feature Importance')\n",
    "\n",
    "plt.show()"
   ]
  },
  {
   "cell_type": "markdown",
   "id": "0d129ee1",
   "metadata": {},
   "source": [
    "# Confusion_matrix"
   ]
  },
  {
   "cell_type": "code",
   "execution_count": 93,
   "id": "9e0559a9",
   "metadata": {},
   "outputs": [
    {
     "data": {
      "text/plain": [
       "array([[881,  98],\n",
       "       [ 17,  86]])"
      ]
     },
     "execution_count": 93,
     "metadata": {},
     "output_type": "execute_result"
    }
   ],
   "source": [
    "confusion_matrix(y_test, y_test_pred)"
   ]
  },
  {
   "cell_type": "code",
   "execution_count": 94,
   "id": "dee35a0f",
   "metadata": {},
   "outputs": [
    {
     "data": {
      "image/png": "[encoded data removed]",
      "text/plain": [
       "<Figure size 576x432 with 2 Axes>"
      ]
     },
     "metadata": {
      "needs_background": "light"
     },
     "output_type": "display_data"
    }
   ],
   "source": [
    "\n",
    "plt.figure(figsize=(8,6))\n",
    "sns.heatmap(confusion_matrix(y_test, y_test_pred), annot=True)\n",
    "#plt.title('SVM Linear Kernel \\nAccuracy:{0:.3f}'.format(accuracy_score(y_test, preds)))\n",
    "plt.ylabel('True label')\n",
    "plt.xlabel('Predicted label')\n",
    "plt.show()"
   ]
  },
  {
   "cell_type": "markdown",
   "id": "2be3d006",
   "metadata": {},
   "source": [
    "# Roc_Auc_Score"
   ]
  },
  {
   "cell_type": "code",
   "execution_count": 95,
   "id": "50343341",
   "metadata": {},
   "outputs": [
    {
     "name": "stdout",
     "output_type": "stream",
     "text": [
      "roc_auc_score for the train dataset: 0.98\n",
      "roc_auc_score for the test dataset: 0.93\n"
     ]
    }
   ],
   "source": [
    "from sklearn.metrics import roc_auc_score\n",
    "roc_auc_score_train = roc_auc_score(y_train, model.predict_proba(X_train)[:, 1])  \n",
    "roc_auc_score_test  = roc_auc_score(y_test, model.predict_proba(X_test)[:, 1])\n",
    "print('roc_auc_score for the train dataset: {:.2f}'.format(roc_auc_score_train))\n",
    "print('roc_auc_score for the test dataset: {:.2f}'.format(roc_auc_score_test))"
   ]
  },
  {
   "cell_type": "code",
   "execution_count": 117,
   "id": "179ff3fe",
   "metadata": {},
   "outputs": [
    {
     "data": {
      "text/plain": [
       "Text(0.5, 1.0, 'Test ROC Curve')"
      ]
     },
     "execution_count": 117,
     "metadata": {},
     "output_type": "execute_result"
    },
    {
     "data": {
      "text/plain": [
       "<Figure size 432x288 with 0 Axes>"
      ]
     },
     "metadata": {},
     "output_type": "display_data"
    },
    {
     "data": {
      "image/png": "[encoded data removed]",
      "text/plain": [
       "<Figure size 432x288 with 1 Axes>"
      ]
     },
     "metadata": {
      "needs_background": "light"
     },
     "output_type": "display_data"
    },
    {
     "data": {
      "image/png": "[encoded data removed]",
      "text/plain": [
       "<Figure size 432x288 with 1 Axes>"
      ]
     },
     "metadata": {
      "needs_background": "light"
     },
     "output_type": "display_data"
    }
   ],
   "source": [
    "from sklearn.metrics import plot_roc_curve \n",
    "\n",
    "plt.figure(1).clf()\n",
    "\n",
    "plot_roc_curve(model, X_train, y_train)\n",
    "\n",
    "plt.title('Train ROC Curve')\n",
    "plot_roc_curve(model, X_test, y_test)\n",
    "\n",
    "plt.title('Test ROC Curve')"
   ]
  },
  {
   "cell_type": "markdown",
   "id": "de13af50",
   "metadata": {},
   "source": [
    "# PR_AUC"
   ]
  },
  {
   "cell_type": "code",
   "execution_count": 97,
   "id": "b2b54652",
   "metadata": {},
   "outputs": [],
   "source": [
    "y_test_proba = model.predict_proba(X_test)\n",
    "y_score = y_test_proba[:, 1]"
   ]
  },
  {
   "cell_type": "code",
   "execution_count": 98,
   "id": "8adf29e8",
   "metadata": {},
   "outputs": [
    {
     "name": "stdout",
     "output_type": "stream",
     "text": [
      "PR-AUC is 0.63\n"
     ]
    },
    {
     "data": {
      "image/png": "[encoded data removed]",
      "text/plain": [
       "<Figure size 432x288 with 1 Axes>"
      ]
     },
     "metadata": {
      "needs_background": "light"
     },
     "output_type": "display_data"
    }
   ],
   "source": [
    "from sklearn.metrics import precision_recall_curve\n",
    "# https://scikit-learn.org/stable/modules/generated/sklearn.metrics.precision_recall_curve.html\n",
    "\n",
    "from sklearn.metrics import auc,plot_precision_recall_curve\n",
    "# https://scikit-learn.org/stable/modules/generated/sklearn.metrics.auc.html\n",
    "\n",
    "# Data to plot precision - recall curve\n",
    "precision, recall, thresholds = precision_recall_curve(y_test, y_score)\n",
    "# Use AUC function to calculate the area under the curve of precision recall curve\n",
    "auc_precision_recall = auc(recall, precision)\n",
    "print('PR-AUC is {:.2f}'.format(auc_precision_recall))\n",
    "\n",
    "# plot PR curve\n",
    "plt.plot(recall, precision)\n",
    "plt.xlabel('Recall(Positive label:1)')\n",
    "plt.ylabel('Precision(Positive label:1)')\n",
    "plt.title('Precision-Recall Curve')\n",
    "plt.show()\n"
   ]
  },
  {
   "cell_type": "markdown",
   "id": "77bf96ea",
   "metadata": {},
   "source": [
    "# Classification_report"
   ]
  },
  {
   "cell_type": "code",
   "execution_count": 100,
   "id": "b5d651e1",
   "metadata": {},
   "outputs": [
    {
     "name": "stdout",
     "output_type": "stream",
     "text": [
      "---------------------Train Classification Report--------------------------------\n",
      "              precision    recall  f1-score   support\n",
      "\n",
      "           0       0.99      0.92      0.95      3925\n",
      "           1       0.54      0.93      0.68       403\n",
      "\n",
      "    accuracy                           0.92      4328\n",
      "   macro avg       0.76      0.92      0.82      4328\n",
      "weighted avg       0.95      0.92      0.93      4328\n",
      "\n",
      "---------------------Test Classification Report--------------------------------\n",
      "              precision    recall  f1-score   support\n",
      "\n",
      "           0       0.98      0.90      0.94       979\n",
      "           1       0.47      0.83      0.60       103\n",
      "\n",
      "    accuracy                           0.89      1082\n",
      "   macro avg       0.72      0.87      0.77      1082\n",
      "weighted avg       0.93      0.89      0.91      1082\n",
      "\n"
     ]
    }
   ],
   "source": [
    "from sklearn.metrics import classification_report\n",
    "print('---------------------Train Classification Report--------------------------------')\n",
    "print(classification_report(y_train, y_train_pred))\n",
    "print('---------------------Test Classification Report--------------------------------')\n",
    "print(classification_report(y_test, y_test_pred))"
   ]
  },
  {
   "cell_type": "code",
   "execution_count": 120,
   "id": "1f95ab37",
   "metadata": {},
   "outputs": [],
   "source": [
    "from sklearn.tree import export_graphviz\n",
    "estimator = model.steps[0][1].estimators_[1]\n",
    "export_graphviz(estimator, out_file='tree.dot', \n",
    "                feature_names = X_train.columns ,\n",
    "                class_names = ['Yes','No'],\n",
    "                rounded = True, proportion = False, \n",
    "                precision = 2, filled = True)\n",
    "import pydot\n",
    "\n",
    "(graph,) = pydot.graph_from_dot_file('tree.dot')\n",
    "graph.write_png('tree3.png')"
   ]
  },
  {
   "cell_type": "code",
   "execution_count": null,
   "id": "e475f958",
   "metadata": {},
   "outputs": [],
   "source": []
  }
 ],
 "metadata": {
  "kernelspec": {
   "display_name": "Python 3 (ipykernel)",
   "language": "python",
   "name": "python3"
  },
  "language_info": {
   "codemirror_mode": {
    "name": "ipython",
    "version": 3
   },
   "file_extension": ".py",
   "mimetype": "text/x-python",
   "name": "python",
   "nbconvert_exporter": "python",
   "pygments_lexer": "ipython3",
   "version": "3.9.12"
  }
 },
 "nbformat": 4,
 "nbformat_minor": 5
}
