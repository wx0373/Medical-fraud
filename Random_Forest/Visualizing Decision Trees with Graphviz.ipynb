{
 "cells": [
  {
   "cell_type": "code",
   "execution_count": 1,
   "id": "bc3bcd9a",
   "metadata": {},
   "outputs": [],
   "source": [
    "import warnings\n",
    "warnings.filterwarnings(\"ignore\")\n",
    "import pandas as pd\n",
    "import numpy as np\n",
    "import seaborn as sns\n",
    "import matplotlib.pyplot as plt\n",
    "from sklearn.pipeline import Pipeline\n",
    "from sklearn.preprocessing import MinMaxScaler\n",
    "from sklearn.ensemble import RandomForestClassifier\n",
    "from sklearn.datasets import make_classification\n",
    "from sklearn.model_selection import cross_val_score\n",
    "from sklearn import metrics \n",
    "from sklearn.metrics import mean_absolute_error, mean_squared_error, r2_score\n",
    "from sklearn.metrics import accuracy_score, confusion_matrix, classification_report\n",
    "from sklearn.metrics import roc_auc_score\n",
    "X_train= pd.read_csv('./X_train_aggregated.csv',  index_col=0)\n",
    "X_test= pd.read_csv('./X_test_aggregated.csv',  index_col=0)\n",
    "y_train= pd.read_csv('./y_train_agg.csv')\n",
    "y_test= pd.read_csv('./y_test_agg.csv')\n",
    "X_test.fillna(0,inplace=True)"
   ]
  },
  {
   "cell_type": "code",
   "execution_count": 7,
   "id": "409a834e",
   "metadata": {},
   "outputs": [],
   "source": [
    "features=['MaxHospitalDays',\n",
    " 'TotalInscClaimAmtReimbursed',\n",
    " 'TotalIPAnnualReimbursementAmt']\n",
    "X_train_tree=X_train[features]"
   ]
  },
  {
   "cell_type": "code",
   "execution_count": 15,
   "id": "817a09d4",
   "metadata": {},
   "outputs": [],
   "source": [
    "\n",
    "\n",
    "from sklearn.pipeline import Pipeline\n",
    "from sklearn.preprocessing import MinMaxScaler\n",
    "from sklearn.ensemble import RandomForestClassifier\n",
    "from sklearn.datasets import make_classification\n",
    "from sklearn.model_selection import cross_val_score\n",
    "from sklearn import metrics \n",
    "from sklearn.metrics import mean_absolute_error, mean_squared_error, r2_score\n",
    "from sklearn.metrics import accuracy_score, confusion_matrix, classification_report\n",
    "from sklearn.metrics import roc_auc_score\n",
    "\n",
    "steps = [('rfc', RandomForestClassifier(n_estimators = 3, criterion = 'entropy', \n",
    "                                        random_state = 0,class_weight='balanced'))]\n",
    "model = Pipeline(steps)\n",
    "model = model.fit(X_train_tree,y_train)  #criterion = 'gini'"
   ]
  },
  {
   "cell_type": "code",
   "execution_count": 17,
   "id": "57c996db",
   "metadata": {},
   "outputs": [],
   "source": [
    "from sklearn.tree import export_graphviz\n",
    "estimator = model.steps[0][1].estimators_[1]\n",
    "export_graphviz(estimator, out_file='tree.dot', \n",
    "                feature_names = features ,\n",
    "                class_names = ['Yes','No'],\n",
    "                rounded = True, proportion = False, \n",
    "                precision = 2, filled = True)\n",
    "import pydot\n",
    "\n",
    "(graph,) = pydot.graph_from_dot_file('tree.dot')\n",
    "graph.write_png('tree3.png')"
   ]
  },
  {
   "cell_type": "code",
   "execution_count": null,
   "id": "4bfaf06d",
   "metadata": {},
   "outputs": [],
   "source": []
  }
 ],
 "metadata": {
  "kernelspec": {
   "display_name": "Python 3 (ipykernel)",
   "language": "python",
   "name": "python3"
  },
  "language_info": {
   "codemirror_mode": {
    "name": "ipython",
    "version": 3
   },
   "file_extension": ".py",
   "mimetype": "text/x-python",
   "name": "python",
   "nbconvert_exporter": "python",
   "pygments_lexer": "ipython3",
   "version": "3.9.12"
  }
 },
 "nbformat": 4,
 "nbformat_minor": 5
}
