{
 "cells": [
  {
   "cell_type": "code",
   "execution_count": 56,
   "id": "530323c1",
   "metadata": {},
   "outputs": [],
   "source": [
    "import warnings\n",
    "warnings.filterwarnings(\"ignore\")\n",
    "import pandas as pd\n",
    "import seaborn as sns\n",
    "import matplotlib.pyplot as plt\n",
    "df_num = pd.read_csv('./df_num.csv')\n",
    "df_fraud = pd.read_csv('./train.csv')"
   ]
  },
  {
   "cell_type": "code",
   "execution_count": 9,
   "id": "58fb22d4",
   "metadata": {},
   "outputs": [
    {
     "data": {
      "text/plain": [
       "Index(['Unnamed: 0', 'BeneID', 'ClaimID', 'ClaimStartDt', 'ClaimEndDt',\n",
       "       'Provider', 'InscClaimAmtReimbursed', 'AttendingPhysician',\n",
       "       'OperatingPhysician', 'OtherPhysician', 'AdmissionDt',\n",
       "       'ClmAdmitDiagnosisCode', 'DeductibleAmtPaid', 'DischargeDt',\n",
       "       'DiagnosisGroupCode', 'ClmDiagnosisCode_1', 'ClmDiagnosisCode_2',\n",
       "       'ClmDiagnosisCode_3', 'ClmDiagnosisCode_4', 'ClmDiagnosisCode_5',\n",
       "       'ClmDiagnosisCode_6', 'ClmDiagnosisCode_7', 'ClmDiagnosisCode_8',\n",
       "       'ClmDiagnosisCode_9', 'ClmDiagnosisCode_10', 'ClmProcedureCode_1',\n",
       "       'ClmProcedureCode_2', 'ClmProcedureCode_3', 'ClmProcedureCode_4',\n",
       "       'ClmProcedureCode_5', 'ClmProcedureCode_6', 'In_Out', 'DOB', 'DOD',\n",
       "       'Gender', 'Race', 'RenalDiseaseIndicator', 'State', 'County',\n",
       "       'NoOfMonths_PartACov', 'NoOfMonths_PartBCov', 'ChronicCond_Alzheimer',\n",
       "       'ChronicCond_Heartfailure', 'ChronicCond_KidneyDisease',\n",
       "       'ChronicCond_Cancer', 'ChronicCond_ObstrPulmonary',\n",
       "       'ChronicCond_Depression', 'ChronicCond_Diabetes',\n",
       "       'ChronicCond_IschemicHeart', 'ChronicCond_Osteoporasis',\n",
       "       'ChronicCond_rheumatoidarthritis', 'ChronicCond_stroke',\n",
       "       'IPAnnualReimbursementAmt', 'IPAnnualDeductibleAmt',\n",
       "       'OPAnnualReimbursementAmt', 'OPAnnualDeductibleAmt', 'PotentialFraud'],\n",
       "      dtype='object')"
      ]
     },
     "execution_count": 9,
     "metadata": {},
     "output_type": "execute_result"
    }
   ],
   "source": [
    "df_num.columns"
   ]
  },
  {
   "cell_type": "code",
   "execution_count": 10,
   "id": "b18563a5",
   "metadata": {},
   "outputs": [
    {
     "data": {
      "text/plain": [
       "(558211, 57)"
      ]
     },
     "execution_count": 10,
     "metadata": {},
     "output_type": "execute_result"
    }
   ],
   "source": [
    "df_num.shape"
   ]
  },
  {
   "cell_type": "code",
   "execution_count": 54,
   "id": "0b3177d5",
   "metadata": {},
   "outputs": [
    {
     "data": {
      "text/plain": [
       "(5410, 2)"
      ]
     },
     "execution_count": 54,
     "metadata": {},
     "output_type": "execute_result"
    }
   ],
   "source": [
    "df=df_num.groupby('Provider')[['ClaimID']].count()\n",
    "df=df.reset_index()\n",
    "df.shape"
   ]
  },
  {
   "cell_type": "code",
   "execution_count": 65,
   "id": "b280be75",
   "metadata": {},
   "outputs": [
    {
     "data": {
      "text/plain": [
       "Provider    object\n",
       "ClaimID      int64\n",
       "dtype: object"
      ]
     },
     "execution_count": 65,
     "metadata": {},
     "output_type": "execute_result"
    }
   ],
   "source": [
    "df.dtypes"
   ]
  },
  {
   "cell_type": "code",
   "execution_count": 66,
   "id": "0daa6ace",
   "metadata": {},
   "outputs": [
    {
     "data": {
      "text/plain": [
       "Provider          object\n",
       "PotentialFraud    object\n",
       "dtype: object"
      ]
     },
     "execution_count": 66,
     "metadata": {},
     "output_type": "execute_result"
    }
   ],
   "source": [
    "df_fraud.dtypes"
   ]
  },
  {
   "cell_type": "code",
   "execution_count": 69,
   "id": "3ac9f573",
   "metadata": {},
   "outputs": [],
   "source": [
    "df_merged=df.merge(df_fraud,on = 'Provider', how='left')"
   ]
  },
  {
   "cell_type": "code",
   "execution_count": 126,
   "id": "68ba293c",
   "metadata": {},
   "outputs": [
    {
     "data": {
      "text/html": [
       "<div>\n",
       "<style scoped>\n",
       "    .dataframe tbody tr th:only-of-type {\n",
       "        vertical-align: middle;\n",
       "    }\n",
       "\n",
       "    .dataframe tbody tr th {\n",
       "        vertical-align: top;\n",
       "    }\n",
       "\n",
       "    .dataframe thead th {\n",
       "        text-align: right;\n",
       "    }\n",
       "</style>\n",
       "<table border=\"1\" class=\"dataframe\">\n",
       "  <thead>\n",
       "    <tr style=\"text-align: right;\">\n",
       "      <th></th>\n",
       "      <th>Provider</th>\n",
       "      <th>ClaimID</th>\n",
       "      <th>PotentialFraud</th>\n",
       "    </tr>\n",
       "  </thead>\n",
       "  <tbody>\n",
       "    <tr>\n",
       "      <th>818</th>\n",
       "      <td>PRV52019</td>\n",
       "      <td>1961</td>\n",
       "      <td>Yes</td>\n",
       "    </tr>\n",
       "    <tr>\n",
       "      <th>4861</th>\n",
       "      <td>PRV57103</td>\n",
       "      <td>2049</td>\n",
       "      <td>Yes</td>\n",
       "    </tr>\n",
       "    <tr>\n",
       "      <th>3221</th>\n",
       "      <td>PRV55039</td>\n",
       "      <td>2058</td>\n",
       "      <td>Yes</td>\n",
       "    </tr>\n",
       "    <tr>\n",
       "      <th>273</th>\n",
       "      <td>PRV51347</td>\n",
       "      <td>2067</td>\n",
       "      <td>Yes</td>\n",
       "    </tr>\n",
       "    <tr>\n",
       "      <th>292</th>\n",
       "      <td>PRV51369</td>\n",
       "      <td>2083</td>\n",
       "      <td>Yes</td>\n",
       "    </tr>\n",
       "    <tr>\n",
       "      <th>1307</th>\n",
       "      <td>PRV52628</td>\n",
       "      <td>2098</td>\n",
       "      <td>Yes</td>\n",
       "    </tr>\n",
       "    <tr>\n",
       "      <th>3018</th>\n",
       "      <td>PRV54772</td>\n",
       "      <td>2115</td>\n",
       "      <td>Yes</td>\n",
       "    </tr>\n",
       "    <tr>\n",
       "      <th>1325</th>\n",
       "      <td>PRV52649</td>\n",
       "      <td>2156</td>\n",
       "      <td>Yes</td>\n",
       "    </tr>\n",
       "    <tr>\n",
       "      <th>828</th>\n",
       "      <td>PRV52030</td>\n",
       "      <td>2275</td>\n",
       "      <td>Yes</td>\n",
       "    </tr>\n",
       "    <tr>\n",
       "      <th>4446</th>\n",
       "      <td>PRV56560</td>\n",
       "      <td>2313</td>\n",
       "      <td>Yes</td>\n",
       "    </tr>\n",
       "    <tr>\n",
       "      <th>5032</th>\n",
       "      <td>PRV57306</td>\n",
       "      <td>2315</td>\n",
       "      <td>Yes</td>\n",
       "    </tr>\n",
       "    <tr>\n",
       "      <th>3195</th>\n",
       "      <td>PRV55004</td>\n",
       "      <td>2399</td>\n",
       "      <td>Yes</td>\n",
       "    </tr>\n",
       "    <tr>\n",
       "      <th>4004</th>\n",
       "      <td>PRV56011</td>\n",
       "      <td>2833</td>\n",
       "      <td>Yes</td>\n",
       "    </tr>\n",
       "    <tr>\n",
       "      <th>853</th>\n",
       "      <td>PRV52064</td>\n",
       "      <td>2844</td>\n",
       "      <td>Yes</td>\n",
       "    </tr>\n",
       "    <tr>\n",
       "      <th>3363</th>\n",
       "      <td>PRV55215</td>\n",
       "      <td>3393</td>\n",
       "      <td>Yes</td>\n",
       "    </tr>\n",
       "    <tr>\n",
       "      <th>3113</th>\n",
       "      <td>PRV54895</td>\n",
       "      <td>3436</td>\n",
       "      <td>Yes</td>\n",
       "    </tr>\n",
       "    <tr>\n",
       "      <th>2335</th>\n",
       "      <td>PRV53918</td>\n",
       "      <td>3588</td>\n",
       "      <td>Yes</td>\n",
       "    </tr>\n",
       "    <tr>\n",
       "      <th>455</th>\n",
       "      <td>PRV51574</td>\n",
       "      <td>4444</td>\n",
       "      <td>Yes</td>\n",
       "    </tr>\n",
       "    <tr>\n",
       "      <th>2250</th>\n",
       "      <td>PRV53797</td>\n",
       "      <td>4739</td>\n",
       "      <td>Yes</td>\n",
       "    </tr>\n",
       "    <tr>\n",
       "      <th>363</th>\n",
       "      <td>PRV51459</td>\n",
       "      <td>8240</td>\n",
       "      <td>Yes</td>\n",
       "    </tr>\n",
       "  </tbody>\n",
       "</table>\n",
       "</div>"
      ],
      "text/plain": [
       "      Provider  ClaimID PotentialFraud\n",
       "818   PRV52019     1961            Yes\n",
       "4861  PRV57103     2049            Yes\n",
       "3221  PRV55039     2058            Yes\n",
       "273   PRV51347     2067            Yes\n",
       "292   PRV51369     2083            Yes\n",
       "1307  PRV52628     2098            Yes\n",
       "3018  PRV54772     2115            Yes\n",
       "1325  PRV52649     2156            Yes\n",
       "828   PRV52030     2275            Yes\n",
       "4446  PRV56560     2313            Yes\n",
       "5032  PRV57306     2315            Yes\n",
       "3195  PRV55004     2399            Yes\n",
       "4004  PRV56011     2833            Yes\n",
       "853   PRV52064     2844            Yes\n",
       "3363  PRV55215     3393            Yes\n",
       "3113  PRV54895     3436            Yes\n",
       "2335  PRV53918     3588            Yes\n",
       "455   PRV51574     4444            Yes\n",
       "2250  PRV53797     4739            Yes\n",
       "363   PRV51459     8240            Yes"
      ]
     },
     "execution_count": 126,
     "metadata": {},
     "output_type": "execute_result"
    }
   ],
   "source": [
    "df_merged.sort_values(by=['ClaimID']).tail(20)"
   ]
  },
  {
   "cell_type": "code",
   "execution_count": 127,
   "id": "f5f0dc58",
   "metadata": {},
   "outputs": [
    {
     "data": {
      "text/plain": [
       "8240"
      ]
     },
     "execution_count": 127,
     "metadata": {},
     "output_type": "execute_result"
    }
   ],
   "source": [
    "max(df_merged[df_merged['PotentialFraud']=='Yes']['ClaimID'])"
   ]
  },
  {
   "cell_type": "code",
   "execution_count": 128,
   "id": "ab936440",
   "metadata": {},
   "outputs": [
    {
     "data": {
      "text/plain": [
       "1"
      ]
     },
     "execution_count": 128,
     "metadata": {},
     "output_type": "execute_result"
    }
   ],
   "source": [
    "min(df_merged[df_merged['PotentialFraud']=='Yes']['ClaimID'])"
   ]
  },
  {
   "cell_type": "code",
   "execution_count": 129,
   "id": "ac8ee138",
   "metadata": {},
   "outputs": [
    {
     "data": {
      "text/plain": [
       "1245"
      ]
     },
     "execution_count": 129,
     "metadata": {},
     "output_type": "execute_result"
    }
   ],
   "source": [
    "max(df_merged[df_merged['PotentialFraud']=='No']['ClaimID'])"
   ]
  },
  {
   "cell_type": "code",
   "execution_count": 130,
   "id": "4d8301d0",
   "metadata": {},
   "outputs": [
    {
     "data": {
      "text/plain": [
       "1"
      ]
     },
     "execution_count": 130,
     "metadata": {},
     "output_type": "execute_result"
    }
   ],
   "source": [
    "min(df_merged[df_merged['PotentialFraud']=='No']['ClaimID'])"
   ]
  },
  {
   "cell_type": "code",
   "execution_count": 76,
   "id": "11fba519",
   "metadata": {},
   "outputs": [
    {
     "data": {
      "text/plain": [
       "<AxesSubplot:xlabel='ClaimID', ylabel='PotentialFraud'>"
      ]
     },
     "execution_count": 76,
     "metadata": {},
     "output_type": "execute_result"
    },
    {
     "data": {
      "image/png": "[encoded data removed]",
      "text/plain": [
       "<Figure size 432x288 with 1 Axes>"
      ]
     },
     "metadata": {
      "needs_background": "light"
     },
     "output_type": "display_data"
    }
   ],
   "source": [
    "sns.histplot(data=df_merged,y='PotentialFraud',x='ClaimID',hue='PotentialFraud')"
   ]
  },
  {
   "cell_type": "code",
   "execution_count": null,
   "id": "8b000206",
   "metadata": {},
   "outputs": [],
   "source": [
    "\n",
    "\n",
    "sns.set(rc={'figure.figsize':(20,5)})\n",
    "sns.set(font_scale=2)\n",
    "ax=sns.stripplot(data=df_merged,y='PotentialFraud',x='ClaimID', \n",
    "                 jitter=0.35,alpha = .3,s=10,edgecolor=\"black\",linewidth=0.5)\n",
    "#ax = sns.boxplot(data=df_merged,y='PotentialFraud',x='ClaimID', whis=np.inf)\n",
    "#ax = sns.violinplot(data=df_merged,y='PotentialFraud',x='ClaimID',inner=None, color=\".8\")\n",
    "ax.axvline(1245, c=\"r\", linewidth=3)\n",
    "plt.xlabel(\"ClaimNumbers\")\n",
    "plt.savefig('./pics/Provider_ClaimNumbers')"
   ]
  },
  {
   "cell_type": "code",
   "execution_count": null,
   "id": "815a1550",
   "metadata": {},
   "outputs": [],
   "source": []
  }
 ],
 "metadata": {
  "kernelspec": {
   "display_name": "Python 3 (ipykernel)",
   "language": "python",
   "name": "python3"
  },
  "language_info": {
   "codemirror_mode": {
    "name": "ipython",
    "version": 3
   },
   "file_extension": ".py",
   "mimetype": "text/x-python",
   "name": "python",
   "nbconvert_exporter": "python",
   "pygments_lexer": "ipython3",
   "version": "3.9.12"
  }
 },
 "nbformat": 4,
 "nbformat_minor": 5
}
