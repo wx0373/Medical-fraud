{
 "cells": [
  {
   "cell_type": "code",
   "execution_count": 3,
   "id": "07b53584",
   "metadata": {},
   "outputs": [],
   "source": [
    "import warnings\n",
    "warnings.filterwarnings(\"ignore\")\n",
    "import pandas as pd\n",
    "import numpy as np\n",
    "import seaborn as sns\n",
    "import matplotlib.pyplot as plt\n",
    "from sklearn.pipeline import Pipeline\n",
    "from sklearn.preprocessing import MinMaxScaler\n",
    "from sklearn.ensemble import RandomForestClassifier\n",
    "from sklearn.datasets import make_classification\n",
    "from sklearn.model_selection import cross_val_score\n",
    "from sklearn import metrics \n",
    "from sklearn.metrics import mean_absolute_error, mean_squared_error, r2_score\n",
    "from sklearn.metrics import accuracy_score, confusion_matrix, classification_report\n",
    "from sklearn.metrics import roc_auc_score\n",
    "X_train= pd.read_csv('./X_train_aggregated.csv',  index_col=0)\n",
    "X_test= pd.read_csv('./X_test_aggregated.csv',  index_col=0)\n",
    "y_train= pd.read_csv('./y_train_agg.csv')\n",
    "y_test= pd.read_csv('./y_test_agg.csv')\n",
    "X_test.fillna(0,inplace=True)"
   ]
  },
  {
   "cell_type": "code",
   "execution_count": 5,
   "id": "96d4ea1d",
   "metadata": {},
   "outputs": [
    {
     "name": "stdout",
     "output_type": "stream",
     "text": [
      "0.9279112754158965\n",
      "[[970   9]\n",
      " [ 69  34]]\n",
      "              precision    recall  f1-score   support\n",
      "\n",
      "           0       0.93      0.99      0.96       979\n",
      "           1       0.79      0.33      0.47       103\n",
      "\n",
      "    accuracy                           0.93      1082\n",
      "   macro avg       0.86      0.66      0.71      1082\n",
      "weighted avg       0.92      0.93      0.91      1082\n",
      "\n"
     ]
    }
   ],
   "source": [
    "from sklearn import svm\n",
    "svn = svm.SVC()    \n",
    "svn.fit(X_train, y_train)    \n",
    "y_test_pred = svn.predict(X_test)  \n",
    "\n",
    "print('accuracy_score(y_test, y_test_pred))    \n",
    "print(confusion_matrix(y_test, y_test_pred))    \n",
    "print(classification_report(y_test, y_test_pred)) "
   ]
  },
  {
   "cell_type": "code",
   "execution_count": null,
   "id": "198dd37e",
   "metadata": {},
   "outputs": [],
   "source": []
  }
 ],
 "metadata": {
  "kernelspec": {
   "display_name": "Python 3 (ipykernel)",
   "language": "python",
   "name": "python3"
  },
  "language_info": {
   "codemirror_mode": {
    "name": "ipython",
    "version": 3
   },
   "file_extension": ".py",
   "mimetype": "text/x-python",
   "name": "python",
   "nbconvert_exporter": "python",
   "pygments_lexer": "ipython3",
   "version": "3.9.12"
  }
 },
 "nbformat": 4,
 "nbformat_minor": 5
}
