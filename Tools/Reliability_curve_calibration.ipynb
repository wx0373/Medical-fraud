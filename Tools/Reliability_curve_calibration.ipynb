{
 "cells": [
  {
   "cell_type": "code",
   "execution_count": null,
   "id": "a919b809",
   "metadata": {},
   "outputs": [],
   "source": [
    "#check the fraud percentage in test set\n",
    "\n",
    "print('original test Fraud percentage: ',np.count_nonzero(y_test==1)/y_test.size)\n",
    "print('predict test Fraud percentage:       ',np.count_nonzero(y_test_pred ==1)/y_test.size)\n",
    "print('threshold=0.8 test Fraud percentage: ',np.count_nonzero(y_test_8 ==1)/y_test_8.size)"
   ]
  },
  {
   "cell_type": "code",
   "execution_count": null,
   "id": "48aa37b2",
   "metadata": {},
   "outputs": [],
   "source": [
    "#original model\n",
    "fraction_of_positives, mean_predicted_value = calibration_curve(y_test, y_test_proba [:,1], n_bins=10)"
   ]
  },
  {
   "cell_type": "code",
   "execution_count": null,
   "id": "ce3ea012",
   "metadata": {},
   "outputs": [],
   "source": [
    "#calibrate model\n",
    "\n",
    "from sklearn.calibration import CalibratedClassifierCV\n",
    "rfc=CalibratedClassifierCV(model[0][1], method='isotonic')\n",
    "fraction_of_positives_rfc, mean_predicted_value_rfc = calibration_curve(y_test, y_test_proba_rfc [:,1], n_bins=10)"
   ]
  },
  {
   "cell_type": "code",
   "execution_count": null,
   "id": "6070e0a8",
   "metadata": {},
   "outputs": [],
   "source": [
    "# compare reliability curve of 2 models\n",
    "\n",
    "plt.figure(figsize=(8, 8))\n",
    "ax1 = plt.subplot2grid((3, 1), (0, 0), rowspan=2)\n",
    "ax2 = plt.subplot2grid((3, 1), (2, 0))\n",
    "ax1.plot([0, 1], [0, 1], \"k:\", label=\"Perfectly calibrated\")\n",
    "\n",
    "ax1.plot(mean_predicted_value, fraction_of_positives, \"s-\",label=\"%s\" % ('Original', ))\n",
    "ax1.plot(mean_predicted_value_rfc, fraction_of_positives_rfc, \"s-\",label=\"%s\" % ('Probability Calibration', ))\n",
    "\n",
    "\n",
    "\n",
    "ax2.hist(y_test_proba [:,1], range=(0, 1), bins=10, label='Original',\n",
    "             histtype=\"step\", lw=2)\n",
    "ax2.hist(y_test_proba_rfc [:,1], range=(0, 1), bins=10, label='Probability Calibration',\n",
    "             histtype=\"step\", lw=2)\n",
    "\n",
    "\n",
    "plt.plot([0, 1], [0, 1], \"k:\", label=\"Perfectly calibrated\")\n",
    "ax1.set_ylabel(\"Fraction of positives\")\n",
    "ax1.set_title('Calibration plots  (reliability curve)')\n",
    "ax2.set_xlabel(\"Mean predicted value\")\n",
    "ax2.set_ylabel(\"Count\")\n",
    "ax1.legend()\n",
    "ax2.legend()\n",
    "plt.show()"
   ]
  },
  {
   "cell_type": "code",
   "execution_count": null,
   "id": "55a3017e",
   "metadata": {},
   "outputs": [],
   "source": [
    "# brier score , less is better\n",
    "\n",
    "from sklearn.metrics import brier_score_loss\n",
    "y_test_proba_rfc = rfc.predict_proba(X_test)\n",
    "print('brier_score is : ', brier_score_loss(y_test, y_test_proba_rfc[:,1]))"
   ]
  }
 ],
 "metadata": {
  "kernelspec": {
   "display_name": "Python 3 (ipykernel)",
   "language": "python",
   "name": "python3"
  },
  "language_info": {
   "codemirror_mode": {
    "name": "ipython",
    "version": 3
   },
   "file_extension": ".py",
   "mimetype": "text/x-python",
   "name": "python",
   "nbconvert_exporter": "python",
   "pygments_lexer": "ipython3",
   "version": "3.9.12"
  }
 },
 "nbformat": 4,
 "nbformat_minor": 5
}
